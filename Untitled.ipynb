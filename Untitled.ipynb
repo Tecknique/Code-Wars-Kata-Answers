{
 "cells": [
  {
   "cell_type": "code",
   "execution_count": null,
   "metadata": {
    "collapsed": true
   },
   "outputs": [],
   "source": [
    "# Python program to find the equilibrium \n",
    "# index of an array \n",
    "  \n",
    "# function to find the equilibrium index \n",
    "def equilibrium(arr): \n",
    "  \n",
    "    # finding the sum of whole array \n",
    "    total_sum = sum(arr) \n",
    "    leftsum = 0\n",
    "    for i, num in enumerate(arr): \n",
    "          \n",
    "        # total_sum is now right sum \n",
    "        # for index i \n",
    "        total_sum -= num \n",
    "          \n",
    "        if leftsum == total_sum: \n",
    "            return i "
   ]
  },
  {
   "cell_type": "code",
   "execution_count": 38,
   "metadata": {},
   "outputs": [],
   "source": [
    "arr = [-7, 1, 5, 2, -4, 3, 0] \n",
    "def equilibrium(arr):\n",
    "    total_sum = sum(arr) \n",
    "    leftsum = 0\n",
    "    for i, num in enumerate(arr): \n",
    "        total_sum -= num \n",
    "        if leftsum == total_sum: \n",
    "            print \"total_sum: \" +str(total_sum)\n",
    "            print \"left_sum: \"+str(leftsum) \n",
    "            print \"equalibrium @ loc: \" + str(i)\n",
    "            return i \n",
    "        else:\n",
    "            leftsum += num\n",
    "    return -1"
   ]
  },
  {
   "cell_type": "code",
   "execution_count": 39,
   "metadata": {},
   "outputs": [
    {
     "name": "stdout",
     "output_type": "stream",
     "text": [
      "total_sum: -1\n",
      "left_sum: -1\n",
      "equalibrium @ loc: 3\n"
     ]
    },
    {
     "data": {
      "text/plain": [
       "3"
      ]
     },
     "execution_count": 39,
     "metadata": {},
     "output_type": "execute_result"
    }
   ],
   "source": [
    "equilibrium(arr)"
   ]
  }
 ],
 "metadata": {
  "kernelspec": {
   "display_name": "Python 2",
   "language": "python",
   "name": "python2"
  },
  "language_info": {
   "codemirror_mode": {
    "name": "ipython",
    "version": 2
   },
   "file_extension": ".py",
   "mimetype": "text/x-python",
   "name": "python",
   "nbconvert_exporter": "python",
   "pygments_lexer": "ipython2",
   "version": "2.7.13"
  }
 },
 "nbformat": 4,
 "nbformat_minor": 2
}
