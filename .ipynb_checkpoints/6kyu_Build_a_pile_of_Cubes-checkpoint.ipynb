{
 "cells": [
  {
   "cell_type": "markdown",
   "metadata": {},
   "source": [
    "# Build a pile of Cubes"
   ]
  },
  {
   "cell_type": "markdown",
   "metadata": {},
   "source": [
    "Your task is to construct a building which will be a pile of n cubes. The cube at the bottom will have a volume of n^3, the cube above will have volume of (n-1)^3 and so on until the top which will have a volume of 1^3.\n",
    "\n",
    "You are given the total volume m of the building. Being given m can you find the number n of cubes you will have to build?\n",
    "\n",
    "The parameter of the function findNb (find_nb, find-nb, findNb) will be an integer m and you have to return the integer n such as n^3 + (n-1)^3 + ... + 1^3 = m if such a n exists or -1 if there is no such n."
   ]
  },
  {
   "cell_type": "markdown",
   "metadata": {},
   "source": [
    "### Function provided"
   ]
  },
  {
   "cell_type": "code",
   "execution_count": 21,
   "metadata": {},
   "outputs": [],
   "source": [
    "def find_nb(m):\n",
    "    # your code"
   ]
  },
  {
   "cell_type": "markdown",
   "metadata": {},
   "source": [
    "### Pseudo code"
   ]
  },
  {
   "cell_type": "code",
   "execution_count": null,
   "metadata": {
    "collapsed": true
   },
   "outputs": [],
   "source": [
    "Find Square root entered number \n",
    "If the entered number devided by the integer version of the square root of entered number'sremainder is 0:\n",
    "    continue\n",
    "else:\n",
    "    -1\n",
    "set i variable to 1\n",
    "set n variable to 0\n",
    "while n is less than or equal to the square toot of entered number:\n",
    "    n = n + i\n",
    "    if n equals the square root of entered number:\n",
    "        return i\n",
    "    else:\n",
    "        i = i + 1\n",
    "return -1"
   ]
  },
  {
   "cell_type": "markdown",
   "metadata": {},
   "source": [
    "### Examples:"
   ]
  },
  {
   "cell_type": "markdown",
   "metadata": {},
   "source": [
    "* findNb(1071225) --> 45\n",
    "* findNb(91716553919377) --> -1"
   ]
  },
  {
   "cell_type": "markdown",
   "metadata": {},
   "source": [
    "### Function"
   ]
  },
  {
   "cell_type": "code",
   "execution_count": 158,
   "metadata": {},
   "outputs": [],
   "source": [
    "import math\n",
    "\n",
    "def find_nb(m):\n",
    "    sqrt_m = math.sqrt(m)\n",
    "    if m%(int(sqrt_m)) != 0:\n",
    "        return -1\n",
    "    i = 1\n",
    "    n = 0\n",
    "    while n <= sqrt_m:\n",
    "        n += i\n",
    "        if n == sqrt_m:\n",
    "            return i\n",
    "        else:\n",
    "            i += 1\n",
    "    else:\n",
    "        return -1"
   ]
  },
  {
   "cell_type": "code",
   "execution_count": 157,
   "metadata": {},
   "outputs": [
    {
     "data": {
      "text/plain": [
       "-1"
      ]
     },
     "execution_count": 157,
     "metadata": {},
     "output_type": "execute_result"
    }
   ],
   "source": [
    "find_nb(1071222)"
   ]
  },
  {
   "cell_type": "markdown",
   "metadata": {},
   "source": [
    "### Better versions found after submitting:"
   ]
  },
  {
   "cell_type": "code",
   "execution_count": null,
   "metadata": {
    "collapsed": true
   },
   "outputs": [],
   "source": [
    "# jmochrie, Cod3r, Lukegb94, wq_0523, xusy2333, AdamSmasher (plus 4 more warriors)\n",
    "\n",
    "def find_nb(m):\n",
    "    n = 1\n",
    "    volume = 0\n",
    "    while volume < m:\n",
    "        volume += n**3\n",
    "        if volume == m:\n",
    "            return n\n",
    "        n += 1\n",
    "    return -1"
   ]
  },
  {
   "cell_type": "code",
   "execution_count": null,
   "metadata": {
    "collapsed": true
   },
   "outputs": [],
   "source": [
    "#Steve Wooding\n",
    "\n",
    "from math import floor, sqrt\n",
    "\n",
    "def find_nb(m):\n",
    "    # Used the formula for the sum of cubes: m = (n(n+1)/2)^2\n",
    "    # Rearranged to find n^2 + n = n(n+1) ~= n^2 ~= 2sqrt(m),\n",
    "    # so take square root and round down the result.\n",
    "    n_canidate = int(floor(sqrt(2 * sqrt(m))))\n",
    "    if (n_canidate * (n_canidate + 1) / 2 )**2 == m:\n",
    "        return n_canidate\n",
    "    else:\n",
    "        return -1"
   ]
  }
 ],
 "metadata": {
  "kernelspec": {
   "display_name": "Python 2",
   "language": "python",
   "name": "python2"
  },
  "language_info": {
   "codemirror_mode": {
    "name": "ipython",
    "version": 2
   },
   "file_extension": ".py",
   "mimetype": "text/x-python",
   "name": "python",
   "nbconvert_exporter": "python",
   "pygments_lexer": "ipython2",
   "version": "2.7.13"
  }
 },
 "nbformat": 4,
 "nbformat_minor": 2
}
